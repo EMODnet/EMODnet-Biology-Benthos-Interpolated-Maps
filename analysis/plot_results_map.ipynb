{
 "cells": [
  {
   "cell_type": "code",
   "execution_count": 112,
   "metadata": {},
   "outputs": [],
   "source": [
    "import os\n",
    "import copy\n",
    "import glob\n",
    "import matplotlib as mpl\n",
    "from mpl_toolkits.basemap import Basemap\n",
    "from matplotlib import colors\n",
    "import numpy as np\n",
    "import matplotlib.pyplot as plt\n",
    "import netCDF4"
   ]
  },
  {
   "cell_type": "code",
   "execution_count": 55,
   "metadata": {},
   "outputs": [],
   "source": [
    "resultdir = \"../product/netCDF/1-UniformL/\"\n",
    "figdir1 = \"../product/figures/1-UniformL\"\n",
    "os.makedirs(figdir) if not os.path.exists(figdir) else \" \"\n",
    "resultlist = sorted(glob.glob(os.path.join(resultdir, \"*.nc\")))\n",
    "domain = [-16., 9., 45., 66.]"
   ]
  },
  {
   "cell_type": "markdown",
   "metadata": {},
   "source": [
    "### Projection"
   ]
  },
  {
   "cell_type": "code",
   "execution_count": 38,
   "metadata": {},
   "outputs": [],
   "source": [
    "m = Basemap(llcrnrlon=domain[0], llcrnrlat=domain[2],\n",
    "            urcrnrlon=domain[1], urcrnrlat=domain[3], \n",
    "            resolution = 'h', epsg=3035, projection='laea')"
   ]
  },
  {
   "cell_type": "markdown",
   "metadata": {},
   "source": [
    "### EMODnet logo"
   ]
  },
  {
   "cell_type": "code",
   "execution_count": 54,
   "metadata": {},
   "outputs": [],
   "source": [
    "logo = plt.imread(\"../data/logo_emodnet.png\")"
   ]
  },
  {
   "cell_type": "markdown",
   "metadata": {},
   "source": [
    "## Reading/plotting functions"
   ]
  },
  {
   "cell_type": "code",
   "execution_count": 107,
   "metadata": {},
   "outputs": [],
   "source": [
    "def read_density(resultfile):\n",
    "    with netCDF4.Dataset(resultfile) as nc:\n",
    "        lon = nc.variables[\"lon\"][:]\n",
    "        lat = nc.variables[\"lat\"][:]\n",
    "        f = nc.variables[\"heatmap\"][:]\n",
    "        e = nc.variables[\"heatmap_error\"][:]\n",
    "        \n",
    "    return lon, lat, f, e"
   ]
  },
  {
   "cell_type": "code",
   "execution_count": 193,
   "metadata": {},
   "outputs": [],
   "source": [
    "def make_plot_field(lon, lat, density, figtitle=None, figname=None, error=None):\n",
    "       \n",
    "    # If the error field is defined, then it is used to mask the interpolated field\n",
    "    if error is not None:\n",
    "        print(error)\n",
    "        density = (1. - error) * density;\n",
    "        \n",
    "    fig = plt.figure(figsize=(10, 10))\n",
    "    m.drawmapboundary(fill_color='#F9F9F9', zorder=1)\n",
    "    m.fillcontinents(color='#363636', zorder=4)\n",
    "    m.drawparallels(np.arange(domain[2], domain[3], 4.), labels=[1,0,0,0], color=\"w\", \n",
    "                    fontsize=16, zorder=3, linewidth=2, dashes=[2,1])\n",
    "    m.drawmeridians(np.arange(domain[0], domain[1], 8.), labels=[0,0,0,1], color=\"w\", \n",
    "                    fontsize=16, zorder=3, linewidth=2, dashes=[2,1])\n",
    "    m.drawcountries(color=\"w\", zorder=4)\n",
    "    pcm = m.pcolormesh(lon, lat, density, latlon=True, cmap=cmap, shading=\"gouraud\", \n",
    "                       vmin=0, vmax=1., zorder=2)\n",
    "    plt.colorbar(pcm, shrink=.8)\n",
    "    \n",
    "    if figtitle is not None:\n",
    "        plt.title(figtitle, fontsize=20)\n",
    "\n",
    "    newax = fig.add_axes([0.625, 0.2, 0.125, 0.125], zorder=7)\n",
    "    newax.imshow(logo)\n",
    "    newax.axis('off')\n",
    "    \n",
    "    if figname is not None:\n",
    "        plt.savefig(figname, dpi=300, bbox_inches=\"tight\")\n",
    "    else:\n",
    "        plt.show()\n",
    "    plt.close()"
   ]
  },
  {
   "cell_type": "markdown",
   "metadata": {},
   "source": [
    "#### Colormap"
   ]
  },
  {
   "cell_type": "code",
   "execution_count": 194,
   "metadata": {},
   "outputs": [],
   "source": [
    "hot_r = plt.cm.get_cmap('hot_r', 256)\n",
    "newcolors = hot_r(np.linspace(0, 1, 256))\n",
    "newcolors[0,0:3] = colors.hex2color(\"#F9F9F9\")\n",
    "cmap = colors.ListedColormap(newcolors)"
   ]
  },
  {
   "cell_type": "markdown",
   "metadata": {},
   "source": [
    "## Create plots\n",
    "### Lood coordinates from first file"
   ]
  },
  {
   "cell_type": "code",
   "execution_count": 195,
   "metadata": {},
   "outputs": [],
   "source": [
    "lon, lat, field, error = read_density(resultlist[0])\n",
    "llon, llat = np.meshgrid(lon, lat)"
   ]
  },
  {
   "cell_type": "markdown",
   "metadata": {},
   "source": [
    "### Loop on the files"
   ]
  },
  {
   "cell_type": "code",
   "execution_count": 198,
   "metadata": {},
   "outputs": [
    {
     "name": "stdout",
     "output_type": "stream",
     "text": [
      "[[1.         1.         1.         ...        nan        nan        nan]\n",
      " [1.         0.99999999 0.99999999 ...        nan        nan        nan]\n",
      " [0.99999999 0.99999999 0.99999999 ...        nan        nan        nan]\n",
      " ...\n",
      " [       nan        nan        nan ... 1.         1.         1.        ]\n",
      " [       nan        nan        nan ... 1.         1.         1.        ]\n",
      " [       nan        nan        nan ... 1.         1.         1.        ]]\n"
     ]
    }
   ],
   "source": [
    "for resultfile in resultlist:\n",
    "    \n",
    "    # Read results\n",
    "    _, _, field, error = read_density(resultfile)\n",
    "    r = os.path.basename(resultfile)\n",
    "    \n",
    "    # Prepare figure name and title\n",
    "    fname1 = r.replace(\".nc\", \".jpg\")\n",
    "    fname2 =  r.replace(\".nc\", \"_masked.jpg\")\n",
    "    figtitle = r.replace(\"_density.nc\", \"\").replace(\"_\", \" \")\n",
    "    figname1 = os.path.join(figdir, fname1)\n",
    "    figname2 = os.path.join(figdir, fname2)\n",
    "    \n",
    "    # Plot \n",
    "    # - Unmasked field\n",
    "    make_plot_field(llon, llat, field, figtitle, figname1)\n",
    "    # - masked field\n",
    "    make_plot_field(llon, llat, field, figtitle, figname2, error)"
   ]
  },
  {
   "cell_type": "code",
   "execution_count": null,
   "metadata": {},
   "outputs": [],
   "source": []
  }
 ],
 "metadata": {
  "kernelspec": {
   "display_name": "Filament",
   "language": "python",
   "name": "filament3.8"
  },
  "language_info": {
   "codemirror_mode": {
    "name": "ipython",
    "version": 3
   },
   "file_extension": ".py",
   "mimetype": "text/x-python",
   "name": "python",
   "nbconvert_exporter": "python",
   "pygments_lexer": "ipython3",
   "version": "3.8.0"
  }
 },
 "nbformat": 4,
 "nbformat_minor": 2
}
