{
 "cells": [
  {
   "cell_type": "markdown",
   "metadata": {},
   "source": [
    "This notebook is designed to create the _benthos_ interpolated maps using `DIVAnd`.      \n",
    "The data file was prepared by P. Herman (Deltares)."
   ]
  },
  {
   "cell_type": "code",
   "execution_count": 26,
   "metadata": {},
   "outputs": [
    {
     "name": "stdout",
     "output_type": "stream",
     "text": [
      "\u001b[32m\u001b[1mStatus\u001b[22m\u001b[39m `~/.julia/environments/v1.5/Project.toml`\n",
      " \u001b[90m [efc8151c] \u001b[39m\u001b[37mDIVAnd v2.6.5\u001b[39m\n"
     ]
    }
   ],
   "source": [
    "using DIVAnd\n",
    "using PyPlot\n",
    "using Proj4\n",
    "using DelimitedFiles\n",
    "using PyCall\n",
    "using Dates\n",
    "using NCDatasets\n",
    "using Pkg\n",
    "include(\"../scripts/BenthosInterp.jl\")\n",
    "Pkg.status(\"DIVAnd\")\n",
    "\n",
    "doplot = false       # set to 'true' to create the plots\n",
    "doplotdata = false    # set to 'true' to plot the observations\n",
    "usecartopy = true    # set to 'true' if plots are created using Cartopy\n",
    "writenc = true;     # set to 'true' to write netCDF files with the results"
   ]
  },
  {
   "cell_type": "markdown",
   "metadata": {},
   "source": [
    "## Files and directories"
   ]
  },
  {
   "cell_type": "code",
   "execution_count": 24,
   "metadata": {},
   "outputs": [
    {
     "name": "stderr",
     "output_type": "stream",
     "text": [
      "┌ Info: Small data file already downloaded\n",
      "└ @ Main In[24]:9\n",
      "┌ Info: Full data file already downloaded\n",
      "└ @ Main In[24]:10\n"
     ]
    }
   ],
   "source": [
    "figdir = \"../product/figures/1-UniformL/\"\n",
    "outputdir = \"../product/netCDF/1-UniformL/2/\"\n",
    "datadir = \"../data/raw_data/\"\n",
    "datafilesmall = joinpath(datadir, \"specs4Diva.csv\")\n",
    "datafile = joinpath(datadir, \"spe.csv\")\n",
    "specnamefile = joinpath(datadir, \"specieslist.csv\")\n",
    "isdir(figdir) ? \"Figure directory already exists\" : mkpath(figdir)\n",
    "isdir(outputdir) ? \"Output directory already exists\" : mkpath(outputdir)\n",
    "isfile(datafilesmall) ? @info(\"Small data file already downloaded\") : download(\"https://dox.ulg.ac.be/index.php/s/vNQcvqjW8RzdNBt/download\", datafilesmall)\n",
    "isfile(datafile) ? @info(\"Full data file already downloaded\") : @warn(\"Full data file does not exist\")"
   ]
  },
  {
   "cell_type": "code",
   "execution_count": 7,
   "metadata": {},
   "outputs": [
    {
     "data": {
      "text/plain": [
       "0.1"
      ]
     },
     "execution_count": 7,
     "metadata": {},
     "output_type": "execute_result"
    }
   ],
   "source": [
    "domain = [-16., 9., 45., 66.]; # [West East South North]\n",
    "Δlon = 0.1\n",
    "Δlat = 0.1"
   ]
  },
  {
   "cell_type": "markdown",
   "metadata": {},
   "source": [
    "## Data reading\n",
    "There are 2 possibilities for the selection of the species to process:\n",
    "1. Take the *N* most frequent species\n",
    "2. Specify a list of `AphiaID`s.     \n",
    "\n",
    "The 2 solutions are described in the next cells.     \n",
    "\n",
    "The dictionary `namesdict` is used to get the _scienfic name_ for the _aphiaID_."
   ]
  },
  {
   "cell_type": "code",
   "execution_count": 44,
   "metadata": {},
   "outputs": [
    {
     "data": {
      "text/plain": [
       "Dict{Any,Any} with 4747 entries:\n",
       "  \"111654\"  => \"Triticella pedicellata\"\n",
       "  \"139486\"  => \"Roxania utriculus\"\n",
       "  \"14635\"   => \"Solenoidea\"\n",
       "  \"238202\"  => \"Myrianida rubropunctata\"\n",
       "  \"152515\"  => \"Stichasteridae\"\n",
       "  \"1423136\" => \"Regioscalpellum regium\"\n",
       "  \"228\"     => \"Astartidae\"\n",
       "  \"141168\"  => \"Alvania cimicoides\"\n",
       "  \"139813\"  => \"Fuscapex cabiochi\"\n",
       "  \"107582\"  => \"Acanthephyra purpurea\"\n",
       "  \"129947\"  => \"Caulleriella viridis\"\n",
       "  \"117809\"  => \"Nemertesia antennina\"\n",
       "  \"152547\"  => \"Oestergrenia digitata\"\n",
       "  \"130356\"  => \"Nephtys ciliata\"\n",
       "  \"1296685\" => \"Pseudotanais falcicula\"\n",
       "  \"110545\"  => \"Campylaspis horrida\"\n",
       "  \"146116\"  => \"Thyone\"\n",
       "  \"846027\"  => \"Palposyllis propeweismanni\"\n",
       "  \"119046\"  => \"Idotea linearis\"\n",
       "  \"110784\"  => \"Arachnidiidae\"\n",
       "  \"130265\"  => \"Scoletoma tetraura\"\n",
       "  \"107072\"  => \"Callianassa\"\n",
       "  \"138118\"  => \"Arculus\"\n",
       "  \"111535\"  => \"Schizoporella patula\"\n",
       "  \"102604\"  => \"Lysianassa caesarea\"\n",
       "  ⋮         => ⋮"
      ]
     },
     "execution_count": 44,
     "metadata": {},
     "output_type": "execute_result"
    }
   ],
   "source": [
    "namesdict = read_specnames(specnamefile);"
   ]
  },
  {
   "cell_type": "markdown",
   "metadata": {},
   "source": [
    "### 1. N most frequent"
   ]
  },
  {
   "cell_type": "code",
   "execution_count": 41,
   "metadata": {},
   "outputs": [
    {
     "name": "stderr",
     "output_type": "stream",
     "text": [
      "┌ Info: Working on 20 species\n",
      "└ @ Main In[41]:4\n"
     ]
    }
   ],
   "source": [
    "N = 20 # Set number of species to process\n",
    "speciesnamelist = get_species_list(datafile)\n",
    "speciesshortlist = sort(speciesnamelist[1:N])\n",
    "@info(\"Working on $(length(speciesshortlist)) species\")"
   ]
  },
  {
   "cell_type": "markdown",
   "metadata": {},
   "source": [
    "### 2. User-defined list of AphiaID\n",
    "- do not run the next cell if you plan to use the N most frequent species\n",
    "- adapt the variable `speciesnamelist` to your application"
   ]
  },
  {
   "cell_type": "code",
   "execution_count": 39,
   "metadata": {},
   "outputs": [
    {
     "name": "stderr",
     "output_type": "stream",
     "text": [
      "┌ Info: Working on 20 species\n",
      "└ @ Main In[39]:2\n"
     ]
    }
   ],
   "source": [
    "speciesnamelist = [\"130118\", \"129370\", \"130359\", \"140767\"]\n",
    "@info(\"Working on $(length(speciesshortlist)) species\")"
   ]
  },
  {
   "cell_type": "markdown",
   "metadata": {},
   "source": [
    "## Prepare domain grid, metrics and mask\n",
    "### Interpolation grid"
   ]
  },
  {
   "cell_type": "code",
   "execution_count": 8,
   "metadata": {},
   "outputs": [
    {
     "data": {
      "text/plain": [
       "45.0:0.1:66.0"
      ]
     },
     "execution_count": 8,
     "metadata": {},
     "output_type": "execute_result"
    }
   ],
   "source": [
    "longrid = domain[1]:Δlon:domain[2]\n",
    "latgrid = domain[3]:Δlat:domain[4]"
   ]
  },
  {
   "cell_type": "markdown",
   "metadata": {},
   "source": [
    "### Download bathymetry file"
   ]
  },
  {
   "cell_type": "code",
   "execution_count": 9,
   "metadata": {},
   "outputs": [
    {
     "data": {
      "text/plain": [
       "\"../data/raw_data/gebco_30sec_4.nc\""
      ]
     },
     "execution_count": 9,
     "metadata": {},
     "output_type": "execute_result"
    }
   ],
   "source": [
    "bathname = joinpath(datadir, \"gebco_30sec_4.nc\")\n",
    "if !isfile(bathname)\n",
    "    download(\"https://dox.ulg.ac.be/index.php/s/RSwm4HPHImdZoQP/download\", bathname)\n",
    "else\n",
    "    @info(\"Bathymetry file already downloaded\")\n",
    "end"
   ]
  },
  {
   "cell_type": "markdown",
   "metadata": {},
   "source": [
    "### Read bathymetry"
   ]
  },
  {
   "cell_type": "code",
   "execution_count": 10,
   "metadata": {},
   "outputs": [
    {
     "name": "stdout",
     "output_type": "stream",
     "text": [
      "size(b) = (251, 211)\n"
     ]
    }
   ],
   "source": [
    "bx, by, b = load_bath(bathname, true, longrid, latgrid)\n",
    "@show size(b)\n",
    "\n",
    "if doplot\n",
    "    fig = PyPlot.figure()\n",
    "    ax = PyPlot.subplot(111)\n",
    "    pcolor(bx,by,b', vmin=0., cmap=PyPlot.cm.gist_earth); \n",
    "    colorbar(orientation=\"vertical\")\n",
    "    title(\"Depth (m)\")\n",
    "    savefig(joinpath(figdir, \"benthos_bathy.jpg\"), dpi=300, bbox_inches=\"tight\")\n",
    "    show()\n",
    "end"
   ]
  },
  {
   "cell_type": "markdown",
   "metadata": {},
   "source": [
    "### Metrics"
   ]
  },
  {
   "cell_type": "code",
   "execution_count": 11,
   "metadata": {},
   "outputs": [],
   "source": [
    "_, (pm, pn),(xi, yi) = DIVAnd.DIVAnd_rectdom(longrid, latgrid);\n",
    "xi, yi, mask = DIVAnd.load_mask(bathname, true, longrid, latgrid, 0.0);\n",
    "xx, yy = ndgrid(xi, yi);"
   ]
  },
  {
   "cell_type": "markdown",
   "metadata": {},
   "source": [
    "## Interpolation\n",
    "### Method"
   ]
  },
  {
   "cell_type": "markdown",
   "metadata": {},
   "source": [
    "Loop on all the species: \n",
    "1. read the data\n",
    "2. compute the heatmaps and \n",
    "3. derive the probability field as:\n",
    "```\n",
    "d = npre * dens2 / (npre * dens_pre + nabs * dens_abs)\n",
    "```\n",
    "where \n",
    "* dens_pre is the heatmap obtained with the presence data only; \n",
    "* dens_abs is the heatmap obtained with the absence data only. \n",
    "\n",
    "The reason for this equation is that the heatmap are computed so that their integral over the domain is 1, whatever the number of observations. "
   ]
  },
  {
   "cell_type": "markdown",
   "metadata": {},
   "source": [
    "### Analysis 1: Using a uniform correlation length"
   ]
  },
  {
   "cell_type": "code",
   "execution_count": 42,
   "metadata": {},
   "outputs": [
    {
     "data": {
      "text/plain": [
       "5.0"
      ]
     },
     "execution_count": 42,
     "metadata": {},
     "output_type": "execute_result"
    }
   ],
   "source": [
    "# Set correlation length\n",
    "Lvalues = [0.01, 0.05, 0.1, 0.5, 1.]\n",
    "L = 0.1\n",
    "epsilon2 = 5."
   ]
  },
  {
   "cell_type": "markdown",
   "metadata": {},
   "source": [
    "Loop on the list of species."
   ]
  },
  {
   "cell_type": "code",
   "execution_count": 33,
   "metadata": {},
   "outputs": [
    {
     "name": "stderr",
     "output_type": "stream",
     "text": [
      "┌ Info: Asterias_rubens\n",
      "└ @ Main In[33]:9\n",
      "┌ Info: Working on species Asterias rubens\n",
      "└ @ Main In[33]:10\n",
      "┌ Info: Column index for pa123776: 24\n",
      "└ @ Main /home/ctroupin/Projects/EMODnet/EMODnet-Biology-Benthos-Interpolated-Maps/scripts/BenthosInterp.jl:25\n",
      "┌ Info: Number of presence: 0, number of absence: 0\n",
      "└ @ Main In[33]:15\n",
      "┌ Info: Computing heatmaps\n",
      "└ @ Main In[33]:27\n",
      "┌ Info: Computing error field with CPME\n",
      "└ @ Main In[33]:37\n",
      "┌ Info: Creating the netCDF file with results\n",
      "└ @ Main In[33]:59\n",
      "┌ Info: Adding error field to netCDF file\n",
      "└ @ Main In[33]:63\n",
      "┌ Info: Echinocyamus_pusillus\n",
      "└ @ Main In[33]:9\n",
      "┌ Info: Working on species Echinocyamus pusillus\n",
      "└ @ Main In[33]:10\n",
      "┌ Info: Column index for pa124273: 21\n",
      "└ @ Main /home/ctroupin/Projects/EMODnet/EMODnet-Biology-Benthos-Interpolated-Maps/scripts/BenthosInterp.jl:25\n",
      "┌ Info: Number of presence: 0, number of absence: 0\n",
      "└ @ Main In[33]:15\n",
      "┌ Info: Computing heatmaps\n",
      "└ @ Main In[33]:27\n",
      "┌ Info: Computing error field with CPME\n",
      "└ @ Main In[33]:37\n",
      "┌ Info: Creating the netCDF file with results\n",
      "└ @ Main In[33]:59\n",
      "┌ Info: Adding error field to netCDF file\n",
      "└ @ Main In[33]:63\n"
     ]
    }
   ],
   "source": [
    "for spec in speciesshortlist[1:2]\n",
    "    aphiaID = replace(spec, \"pa\"=>\"\")\n",
    "    species = namesdict[aphiaID]\n",
    "\n",
    "    speciesslug = get_species_slug(String(species))\n",
    "    \n",
    "    @info(speciesslug)\n",
    "    @info(\"Working on species $(String(species))\");\n",
    "    lon_pre, lat_pre, lon_abs, lat_abs = read_coords_species(datafile, spec);\n",
    "    npre = length(lon_pre)\n",
    "    nabs = length(lon_abs)\n",
    "\n",
    "    @info(\"Number of presence: $(npre), number of absence: $(nabs)\")\n",
    "    \n",
    "\n",
    "    # Plot the data locations\n",
    "    if doplotdata\n",
    "        make_plot_presence_absence(lon_pre, lat_pre, lon_abs, lat_abs, String(species),\n",
    "            dlat=4., dlon=6.,\n",
    "            figname=joinpath(figdir, \"$(speciesslug)_data.jpg\"), usecartopy=true)\n",
    "    end\n",
    "    \n",
    "    \n",
    "    \n",
    "    @info(\"Computing heatmaps\")\n",
    "    dens_pre, LHM2, LCV2, LSCV2 = DIVAnd_heatmap(mask, (pm,pn), (xx, yy), \n",
    "        (lon_pre, lat_pre), ones(npre), L);\n",
    "    dens_abs, LHM3, LCV3, LSCV3 = DIVAnd_heatmap(mask, (pm,pn), (xx, yy), \n",
    "        (lon_abs, lat_abs), ones(nabs), L);\n",
    "\n",
    "\n",
    "    d = npre .* dens_pre ./ (npre .* dens_pre .+ nabs .* dens_abs);\n",
    "\n",
    "    \n",
    "    @info(\"Computing error field with CPME\")\n",
    "    lon = [lon_pre ; lon_abs]\n",
    "    lat = [lat_pre ; lat_abs]\n",
    "\n",
    "    cpme = DIVAnd_cpme(mask, (pm, pn), (xx, yy), (lon, lat), \n",
    "        ones(length(lon)), 5. * L, epsilon2);\n",
    "\n",
    "    \n",
    "    if doplot\n",
    "        \n",
    "        plot_heatmap(longrid, latgrid, d, lon_pre, lat_pre, lon_abs, lat_abs,\n",
    "            \"$(species): probability\", figname=joinpath(figdir, \"$(speciesslug)_density.jpg\"), \n",
    "            usecartopy=usecartopy)  \n",
    "        \"\"\"\n",
    "        plot_error(longrid, latgrid, cpme, \"$(species): error\", \n",
    "            figname=joinpath(figdir, \"$(speciesslug)_error.png\"),\n",
    "            usecartopy=usecartopy)\n",
    "        \"\"\"\n",
    "        \n",
    "    end   \n",
    "\n",
    "    if writenc\n",
    "        @info(\"Creating the netCDF file with results\")\n",
    "        create_nc_results(joinpath(outputdir, \"$(speciesslug)_density.nc\"), \n",
    "            longrid, latgrid, d, String(species), domain=domain);\n",
    "\n",
    "        @info(\"Adding error field to netCDF file\")\n",
    "        write_nc_error(joinpath(outputdir, \"$(speciesslug)_density.nc\"), cpme);\n",
    "    end\n",
    "\n",
    "\n",
    "end"
   ]
  },
  {
   "cell_type": "markdown",
   "metadata": {},
   "source": [
    "## Analysis 2: Variable correlation length\n",
    "The correlation length parameters is now variable over the domain. It takes into account the variability in the substrate.     \n",
    "The information is read from the file `substrate_gini_impurity.nc`, output of the script [`benthos_substrate.jl`](./benthos_substrate.jl)."
   ]
  },
  {
   "cell_type": "code",
   "execution_count": 10,
   "metadata": {},
   "outputs": [
    {
     "data": {
      "text/plain": [
       "47.0:0.1:66.0"
      ]
     },
     "execution_count": 10,
     "metadata": {},
     "output_type": "execute_result"
    }
   ],
   "source": [
    "figdir2 = \"../product/figures/2-VariableL/\"\n",
    "outputdir2 = \"../product/netCDF/2-VariableL/\"\n",
    "isdir(figdir2) ? \"Figure directory already exists\" : mkpath(figdir2)\n",
    "isdir(outputdir2) ? \"Output directory already exists\" : mkpath(outputdir2)\n",
    "\n",
    "domain2 = [-16., 9., 47., 66.]; # [West East South North]\n",
    "longrid2 = domain2[1]:Δlon:domain2[2]\n",
    "latgrid2 = domain2[3]:Δlat:domain2[4]"
   ]
  },
  {
   "cell_type": "markdown",
   "metadata": {},
   "source": [
    "### Read variable correlation length"
   ]
  },
  {
   "cell_type": "code",
   "execution_count": 16,
   "metadata": {},
   "outputs": [
    {
     "name": "stderr",
     "output_type": "stream",
     "text": [
      "┌ Info: Variable correlation length file already downloaded\n",
      "└ @ Main In[16]:5\n",
      "┌ Info: (1479, 683)\n",
      "└ @ Main In[16]:9\n"
     ]
    }
   ],
   "source": [
    "Lfile = joinpath(datadir, \"substrate_gini_impurity.nc\")\n",
    "if !isfile(Lfile)\n",
    "    download(\"https://dox.ulg.ac.be/index.php/s/55IVEmn2xb8zHyR/download/download\", bathname)\n",
    "else\n",
    "    @info(\"Variable correlation length file already downloaded\")\n",
    "end\n",
    "\n",
    "lonL, latL, g = read_substrate(Lfile);\n",
    "@info(size(g));\n",
    "\n",
    "maxlen = 0.5\n",
    "minlen = 0.1\n",
    "Lfield = minlen .+ (maxlen - minlen) * (1 .- g);"
   ]
  },
  {
   "cell_type": "markdown",
   "metadata": {},
   "source": [
    "Re-interpolate the L field on the interpolation grid"
   ]
  },
  {
   "cell_type": "code",
   "execution_count": 17,
   "metadata": {},
   "outputs": [
    {
     "name": "stdout",
     "output_type": "stream",
     "text": [
      "  0.000262 seconds (20 allocations: 397.500 KiB)\n"
     ]
    }
   ],
   "source": [
    "bx2, by2, b2 = load_bath(bathname, true, longrid2, latgrid2)\n",
    "_, (pm2, pn2), (xi, yi) = DIVAnd.DIVAnd_rectdom(longrid2, latgrid2);\n",
    "xi2, yi2, mask2 = DIVAnd.load_mask(bathname, true, longrid2, latgrid2, 0.0);\n",
    "xx2, yy2 = ndgrid(xi2, yi2);\n",
    "@time lon_interp, lat_interp, Linterp = interp_horiz(lonL, latL, Lfield, longrid2, latgrid2);"
   ]
  },
  {
   "cell_type": "markdown",
   "metadata": {},
   "source": [
    "Create plot"
   ]
  },
  {
   "cell_type": "code",
   "execution_count": 18,
   "metadata": {},
   "outputs": [],
   "source": [
    "llonL, llatL = ndgrid(lonL, latL)\n",
    "clf();\n",
    "PyPlot.figure(figsize=(10, 10))\n",
    "if usecartopy\n",
    "    ax = PyPlot.subplot(111, projection=myproj)\n",
    "else\n",
    "    ax = PyPlot.subplot(111)\n",
    "end\n",
    "pcm = ax.pcolor(lon_interp, lat_interp, Linterp')\n",
    "decorate_map_domain(ax, domain=domain2)\n",
    "PyPlot.title(\"Correlation length field\")\n",
    "colorbar(pcm, shrink=0.7)\n",
    "PyPlot.savefig(joinpath(figdir, \"../variableL4.jpg\"), dpi=300, bbox_inches=\"tight\")\n",
    "PyPlot.close();"
   ]
  },
  {
   "cell_type": "markdown",
   "metadata": {},
   "source": [
    "### Loop"
   ]
  },
  {
   "cell_type": "code",
   "execution_count": 19,
   "metadata": {},
   "outputs": [
    {
     "data": {
      "text/plain": [
       "false"
      ]
     },
     "execution_count": 19,
     "metadata": {},
     "output_type": "execute_result"
    }
   ],
   "source": [
    "doplot = false"
   ]
  },
  {
   "cell_type": "code",
   "execution_count": 23,
   "metadata": {
    "scrolled": true
   },
   "outputs": [
    {
     "name": "stderr",
     "output_type": "stream",
     "text": [
      "┌ Info: Abludomelita_obtusata\n",
      "└ @ Main In[23]:7\n",
      "┌ Info: Working on species Abludomelita_obtusata\n",
      "└ @ Main In[23]:8\n",
      "┌ Info: Column index for Abludomelita_obtusata: 9\n",
      "└ @ Main /home/ctroupin/Projects/EMODnet/EMODnet-Biology-Benthos-Interpolated-Maps/scripts/BenthosInterp.jl:25\n",
      "┌ Info: Number of presence: 2097, number of absence: 66463\n",
      "└ @ Main In[23]:13\n",
      "┌ Info: Computing heatmaps\n",
      "└ @ Main In[23]:16\n",
      "┌ Warning: Data array size (66463,) is larger then maximum 10000. Superobservations will be created. To avoid, increase nmax to the desired number of superobs\n",
      "└ @ DIVAnd /home/ctroupin/.julia/packages/DIVAnd/LkI0S/src/DIVAnd_heatmap.jl:48\n",
      "┌ Info: Computing error field with CPME\n",
      "└ @ Main In[23]:25\n",
      "┌ Info: Creating the netCDF file with results\n",
      "└ @ Main In[23]:43\n",
      "┌ Info: Adding error field to netCDF file\n",
      "└ @ Main In[23]:47\n",
      "┌ Info: Abra_alba\n",
      "└ @ Main In[23]:7\n",
      "┌ Info: Working on species Abra_alba\n",
      "└ @ Main In[23]:8\n",
      "┌ Info: Column index for Abra_alba: 5\n",
      "└ @ Main /home/ctroupin/Projects/EMODnet/EMODnet-Biology-Benthos-Interpolated-Maps/scripts/BenthosInterp.jl:25\n",
      "┌ Info: Number of presence: 14068, number of absence: 65977\n",
      "└ @ Main In[23]:13\n",
      "┌ Info: Computing heatmaps\n",
      "└ @ Main In[23]:16\n",
      "┌ Warning: Data array size (14068,) is larger then maximum 10000. Superobservations will be created. To avoid, increase nmax to the desired number of superobs\n",
      "└ @ DIVAnd /home/ctroupin/.julia/packages/DIVAnd/LkI0S/src/DIVAnd_heatmap.jl:48\n",
      "┌ Warning: Data array size (65977,) is larger then maximum 10000. Superobservations will be created. To avoid, increase nmax to the desired number of superobs\n",
      "└ @ DIVAnd /home/ctroupin/.julia/packages/DIVAnd/LkI0S/src/DIVAnd_heatmap.jl:48\n",
      "┌ Info: Computing error field with CPME\n",
      "└ @ Main In[23]:25\n",
      "┌ Info: Creating the netCDF file with results\n",
      "└ @ Main In[23]:43\n",
      "┌ Info: Adding error field to netCDF file\n",
      "└ @ Main In[23]:47\n",
      "┌ Info: Acrocnida_brachiata\n",
      "└ @ Main In[23]:7\n",
      "┌ Info: Working on species Acrocnida_brachiata\n",
      "└ @ Main In[23]:8\n",
      "┌ Info: Column index for Acrocnida_brachiata: 14\n",
      "└ @ Main /home/ctroupin/Projects/EMODnet/EMODnet-Biology-Benthos-Interpolated-Maps/scripts/BenthosInterp.jl:25\n",
      "┌ Info: Number of presence: 1665, number of absence: 66895\n",
      "└ @ Main In[23]:13\n",
      "┌ Info: Computing heatmaps\n",
      "└ @ Main In[23]:16\n",
      "┌ Warning: Data array size (66895,) is larger then maximum 10000. Superobservations will be created. To avoid, increase nmax to the desired number of superobs\n",
      "└ @ DIVAnd /home/ctroupin/.julia/packages/DIVAnd/LkI0S/src/DIVAnd_heatmap.jl:48\n",
      "┌ Info: Computing error field with CPME\n",
      "└ @ Main In[23]:25\n",
      "┌ Info: Creating the netCDF file with results\n",
      "└ @ Main In[23]:43\n",
      "┌ Info: Adding error field to netCDF file\n",
      "└ @ Main In[23]:47\n",
      "┌ Info: Aequipecten_opercularis\n",
      "└ @ Main In[23]:7\n",
      "┌ Info: Working on species Aequipecten_opercularis\n",
      "└ @ Main In[23]:8\n",
      "┌ Info: Column index for Aequipecten_opercularis: 16\n",
      "└ @ Main /home/ctroupin/Projects/EMODnet/EMODnet-Biology-Benthos-Interpolated-Maps/scripts/BenthosInterp.jl:25\n",
      "┌ Info: Number of presence: 1922, number of absence: 78087\n",
      "└ @ Main In[23]:13\n",
      "┌ Info: Computing heatmaps\n",
      "└ @ Main In[23]:16\n",
      "┌ Warning: Data array size (78087,) is larger then maximum 10000. Superobservations will be created. To avoid, increase nmax to the desired number of superobs\n",
      "└ @ DIVAnd /home/ctroupin/.julia/packages/DIVAnd/LkI0S/src/DIVAnd_heatmap.jl:48\n",
      "┌ Info: Computing error field with CPME\n",
      "└ @ Main In[23]:25\n",
      "┌ Info: Creating the netCDF file with results\n",
      "└ @ Main In[23]:43\n",
      "┌ Info: Adding error field to netCDF file\n",
      "└ @ Main In[23]:47\n",
      "┌ Info: Amphiura_Ophiopeltis_securigera\n",
      "└ @ Main In[23]:7\n",
      "┌ Info: Working on species Amphiura_(Ophiopeltis)_securigera\n",
      "└ @ Main In[23]:8\n",
      "┌ Info: Column index for Amphiura_(Ophiopeltis)_securigera: 21\n",
      "└ @ Main /home/ctroupin/Projects/EMODnet/EMODnet-Biology-Benthos-Interpolated-Maps/scripts/BenthosInterp.jl:25\n",
      "┌ Info: Number of presence: 1310, number of absence: 67250\n",
      "└ @ Main In[23]:13\n",
      "┌ Info: Computing heatmaps\n",
      "└ @ Main In[23]:16\n",
      "┌ Warning: Data array size (67250,) is larger then maximum 10000. Superobservations will be created. To avoid, increase nmax to the desired number of superobs\n",
      "└ @ DIVAnd /home/ctroupin/.julia/packages/DIVAnd/LkI0S/src/DIVAnd_heatmap.jl:48\n",
      "┌ Info: Computing error field with CPME\n",
      "└ @ Main In[23]:25\n",
      "┌ Info: Creating the netCDF file with results\n",
      "└ @ Main In[23]:43\n",
      "┌ Info: Adding error field to netCDF file\n",
      "└ @ Main In[23]:47\n",
      "┌ Info: Amphiura_chiajei\n",
      "└ @ Main In[23]:7\n",
      "┌ Info: Working on species Amphiura_chiajei\n",
      "└ @ Main In[23]:8\n",
      "┌ Info: Column index for Amphiura_chiajei: 8\n",
      "└ @ Main /home/ctroupin/Projects/EMODnet/EMODnet-Biology-Benthos-Interpolated-Maps/scripts/BenthosInterp.jl:25\n",
      "┌ Info: Number of presence: 1775, number of absence: 66785\n",
      "└ @ Main In[23]:13\n",
      "┌ Info: Computing heatmaps\n",
      "└ @ Main In[23]:16\n",
      "┌ Warning: Data array size (66785,) is larger then maximum 10000. Superobservations will be created. To avoid, increase nmax to the desired number of superobs\n",
      "└ @ DIVAnd /home/ctroupin/.julia/packages/DIVAnd/LkI0S/src/DIVAnd_heatmap.jl:48\n",
      "┌ Info: Computing error field with CPME\n",
      "└ @ Main In[23]:25\n",
      "┌ Info: Creating the netCDF file with results\n",
      "└ @ Main In[23]:43\n",
      "┌ Info: Adding error field to netCDF file\n",
      "└ @ Main In[23]:47\n",
      "┌ Info: Amphiura_filiformis\n",
      "└ @ Main In[23]:7\n",
      "┌ Info: Working on species Amphiura_filiformis\n",
      "└ @ Main In[23]:8\n",
      "┌ Info: Column index for Amphiura_filiformis: 6\n",
      "└ @ Main /home/ctroupin/Projects/EMODnet/EMODnet-Biology-Benthos-Interpolated-Maps/scripts/BenthosInterp.jl:25\n",
      "┌ Info: Number of presence: 5716, number of absence: 74293\n",
      "└ @ Main In[23]:13\n",
      "┌ Info: Computing heatmaps\n",
      "└ @ Main In[23]:16\n",
      "┌ Warning: Data array size (74293,) is larger then maximum 10000. Superobservations will be created. To avoid, increase nmax to the desired number of superobs\n",
      "└ @ DIVAnd /home/ctroupin/.julia/packages/DIVAnd/LkI0S/src/DIVAnd_heatmap.jl:48\n",
      "┌ Info: Computing error field with CPME\n",
      "└ @ Main In[23]:25\n",
      "┌ Info: Creating the netCDF file with results\n",
      "└ @ Main In[23]:43\n",
      "┌ Info: Adding error field to netCDF file\n",
      "└ @ Main In[23]:47\n",
      "┌ Info: Bathyporeia_tenuipes\n",
      "└ @ Main In[23]:7\n",
      "┌ Info: Working on species Bathyporeia_tenuipes\n",
      "└ @ Main In[23]:8\n",
      "┌ Info: Column index for Bathyporeia_tenuipes: 17\n",
      "└ @ Main /home/ctroupin/Projects/EMODnet/EMODnet-Biology-Benthos-Interpolated-Maps/scripts/BenthosInterp.jl:25\n",
      "┌ Info: Number of presence: 1421, number of absence: 67139\n",
      "└ @ Main In[23]:13\n",
      "┌ Info: Computing heatmaps\n",
      "└ @ Main In[23]:16\n",
      "┌ Warning: Data array size (67139,) is larger then maximum 10000. Superobservations will be created. To avoid, increase nmax to the desired number of superobs\n",
      "└ @ DIVAnd /home/ctroupin/.julia/packages/DIVAnd/LkI0S/src/DIVAnd_heatmap.jl:48\n",
      "┌ Info: Computing error field with CPME\n",
      "└ @ Main In[23]:25\n",
      "┌ Info: Creating the netCDF file with results\n",
      "└ @ Main In[23]:43\n",
      "┌ Info: Adding error field to netCDF file\n",
      "└ @ Main In[23]:47\n",
      "┌ Info: Bicellariella_ciliata\n",
      "└ @ Main In[23]:7\n",
      "┌ Info: Working on species Bicellariella_ciliata\n",
      "└ @ Main In[23]:8\n",
      "┌ Info: Column index for Bicellariella_ciliata: 10\n",
      "└ @ Main /home/ctroupin/Projects/EMODnet/EMODnet-Biology-Benthos-Interpolated-Maps/scripts/BenthosInterp.jl:25\n",
      "┌ Info: Number of presence: 2159, number of absence: 66401\n",
      "└ @ Main In[23]:13\n",
      "┌ Info: Computing heatmaps\n",
      "└ @ Main In[23]:16\n",
      "┌ Warning: Data array size (66401,) is larger then maximum 10000. Superobservations will be created. To avoid, increase nmax to the desired number of superobs\n",
      "└ @ DIVAnd /home/ctroupin/.julia/packages/DIVAnd/LkI0S/src/DIVAnd_heatmap.jl:48\n",
      "┌ Info: Computing error field with CPME\n",
      "└ @ Main In[23]:25\n",
      "┌ Info: Creating the netCDF file with results\n",
      "└ @ Main In[23]:43\n",
      "┌ Info: Adding error field to netCDF file\n",
      "└ @ Main In[23]:47\n",
      "┌ Info: Callianassa_subterranea\n",
      "└ @ Main In[23]:7\n",
      "┌ Info: Working on species Callianassa_subterranea\n",
      "└ @ Main In[23]:8\n",
      "┌ Info: Column index for Callianassa_subterranea: 13\n",
      "└ @ Main /home/ctroupin/Projects/EMODnet/EMODnet-Biology-Benthos-Interpolated-Maps/scripts/BenthosInterp.jl:25\n",
      "┌ Info: Number of presence: 2107, number of absence: 67049\n",
      "└ @ Main In[23]:13\n",
      "┌ Info: Computing heatmaps\n",
      "└ @ Main In[23]:16\n",
      "┌ Warning: Data array size (67049,) is larger then maximum 10000. Superobservations will be created. To avoid, increase nmax to the desired number of superobs\n",
      "└ @ DIVAnd /home/ctroupin/.julia/packages/DIVAnd/LkI0S/src/DIVAnd_heatmap.jl:48\n"
     ]
    },
    {
     "name": "stderr",
     "output_type": "stream",
     "text": [
      "┌ Info: Computing error field with CPME\n",
      "└ @ Main In[23]:25\n",
      "┌ Info: Creating the netCDF file with results\n",
      "└ @ Main In[23]:43\n",
      "┌ Info: Adding error field to netCDF file\n",
      "└ @ Main In[23]:47\n",
      "┌ Info: Diplocirrus_glaucus\n",
      "└ @ Main In[23]:7\n",
      "┌ Info: Working on species Diplocirrus_glaucus\n",
      "└ @ Main In[23]:8\n",
      "┌ Info: Column index for Diplocirrus_glaucus: 7\n",
      "└ @ Main /home/ctroupin/Projects/EMODnet/EMODnet-Biology-Benthos-Interpolated-Maps/scripts/BenthosInterp.jl:25\n",
      "┌ Info: Number of presence: 4087, number of absence: 64473\n",
      "└ @ Main In[23]:13\n",
      "┌ Info: Computing heatmaps\n",
      "└ @ Main In[23]:16\n",
      "┌ Warning: Data array size (64473,) is larger then maximum 10000. Superobservations will be created. To avoid, increase nmax to the desired number of superobs\n",
      "└ @ DIVAnd /home/ctroupin/.julia/packages/DIVAnd/LkI0S/src/DIVAnd_heatmap.jl:48\n",
      "┌ Info: Computing error field with CPME\n",
      "└ @ Main In[23]:25\n",
      "┌ Info: Creating the netCDF file with results\n",
      "└ @ Main In[23]:43\n",
      "┌ Info: Adding error field to netCDF file\n",
      "└ @ Main In[23]:47\n",
      "┌ Info: Diplocirrus_stopbowitzi\n",
      "└ @ Main In[23]:7\n",
      "┌ Info: Working on species Diplocirrus_stopbowitzi\n",
      "└ @ Main In[23]:8\n",
      "┌ Info: Column index for Diplocirrus_stopbowitzi: 22\n",
      "└ @ Main /home/ctroupin/Projects/EMODnet/EMODnet-Biology-Benthos-Interpolated-Maps/scripts/BenthosInterp.jl:25\n",
      "┌ Info: Number of presence: 332, number of absence: 68228\n",
      "└ @ Main In[23]:13\n",
      "┌ Info: Computing heatmaps\n",
      "└ @ Main In[23]:16\n",
      "┌ Warning: Data array size (68228,) is larger then maximum 10000. Superobservations will be created. To avoid, increase nmax to the desired number of superobs\n",
      "└ @ DIVAnd /home/ctroupin/.julia/packages/DIVAnd/LkI0S/src/DIVAnd_heatmap.jl:48\n",
      "┌ Info: Computing error field with CPME\n",
      "└ @ Main In[23]:25\n",
      "┌ Info: Creating the netCDF file with results\n",
      "└ @ Main In[23]:43\n",
      "┌ Info: Adding error field to netCDF file\n",
      "└ @ Main In[23]:47\n",
      "┌ Info: Littorina_littorea\n",
      "└ @ Main In[23]:7\n",
      "┌ Info: Working on species Littorina_littorea\n",
      "└ @ Main In[23]:8\n",
      "┌ Info: Column index for Littorina_littorea: 15\n",
      "└ @ Main /home/ctroupin/Projects/EMODnet/EMODnet-Biology-Benthos-Interpolated-Maps/scripts/BenthosInterp.jl:25\n",
      "┌ Info: Number of presence: 1285, number of absence: 67275\n",
      "└ @ Main In[23]:13\n",
      "┌ Info: Computing heatmaps\n",
      "└ @ Main In[23]:16\n",
      "┌ Warning: Data array size (67275,) is larger then maximum 10000. Superobservations will be created. To avoid, increase nmax to the desired number of superobs\n",
      "└ @ DIVAnd /home/ctroupin/.julia/packages/DIVAnd/LkI0S/src/DIVAnd_heatmap.jl:48\n",
      "┌ Info: Computing error field with CPME\n",
      "└ @ Main In[23]:25\n",
      "┌ Info: Creating the netCDF file with results\n",
      "└ @ Main In[23]:43\n",
      "┌ Info: Adding error field to netCDF file\n",
      "└ @ Main In[23]:47\n",
      "┌ Info: Lumbrineriopsis_paradoxa\n",
      "└ @ Main In[23]:7\n",
      "┌ Info: Working on species Lumbrineriopsis_paradoxa\n",
      "└ @ Main In[23]:8\n",
      "┌ Info: Column index for Lumbrineriopsis_paradoxa: 18\n",
      "└ @ Main /home/ctroupin/Projects/EMODnet/EMODnet-Biology-Benthos-Interpolated-Maps/scripts/BenthosInterp.jl:25\n",
      "┌ Info: Number of presence: 2128, number of absence: 66432\n",
      "└ @ Main In[23]:13\n",
      "┌ Info: Computing heatmaps\n",
      "└ @ Main In[23]:16\n",
      "┌ Warning: Data array size (66432,) is larger then maximum 10000. Superobservations will be created. To avoid, increase nmax to the desired number of superobs\n",
      "└ @ DIVAnd /home/ctroupin/.julia/packages/DIVAnd/LkI0S/src/DIVAnd_heatmap.jl:48\n",
      "┌ Info: Computing error field with CPME\n",
      "└ @ Main In[23]:25\n",
      "┌ Info: Creating the netCDF file with results\n",
      "└ @ Main In[23]:43\n",
      "┌ Info: Adding error field to netCDF file\n",
      "└ @ Main In[23]:47\n",
      "┌ Info: Megaluropus_agilis\n",
      "└ @ Main In[23]:7\n",
      "┌ Info: Working on species Megaluropus_agilis\n",
      "└ @ Main In[23]:8\n",
      "┌ Info: Column index for Megaluropus_agilis: 11\n",
      "└ @ Main /home/ctroupin/Projects/EMODnet/EMODnet-Biology-Benthos-Interpolated-Maps/scripts/BenthosInterp.jl:25\n",
      "┌ Info: Number of presence: 1919, number of absence: 66641\n",
      "└ @ Main In[23]:13\n",
      "┌ Info: Computing heatmaps\n",
      "└ @ Main In[23]:16\n",
      "┌ Warning: Data array size (66641,) is larger then maximum 10000. Superobservations will be created. To avoid, increase nmax to the desired number of superobs\n",
      "└ @ DIVAnd /home/ctroupin/.julia/packages/DIVAnd/LkI0S/src/DIVAnd_heatmap.jl:48\n",
      "┌ Info: Computing error field with CPME\n",
      "└ @ Main In[23]:25\n",
      "┌ Info: Creating the netCDF file with results\n",
      "└ @ Main In[23]:43\n",
      "┌ Info: Adding error field to netCDF file\n",
      "└ @ Main In[23]:47\n",
      "┌ Info: Schizomavella_Schizomavella_auriculata\n",
      "└ @ Main In[23]:7\n",
      "┌ Info: Working on species Schizomavella_(Schizomavella)_auriculata\n",
      "└ @ Main In[23]:8\n",
      "┌ Info: Column index for Schizomavella_(Schizomavella)_auriculata: 20\n",
      "└ @ Main /home/ctroupin/Projects/EMODnet/EMODnet-Biology-Benthos-Interpolated-Maps/scripts/BenthosInterp.jl:25\n",
      "┌ Info: Number of presence: 1405, number of absence: 67155\n",
      "└ @ Main In[23]:13\n",
      "┌ Info: Computing heatmaps\n",
      "└ @ Main In[23]:16\n",
      "┌ Warning: Data array size (67155,) is larger then maximum 10000. Superobservations will be created. To avoid, increase nmax to the desired number of superobs\n",
      "└ @ DIVAnd /home/ctroupin/.julia/packages/DIVAnd/LkI0S/src/DIVAnd_heatmap.jl:48\n",
      "┌ Info: Computing error field with CPME\n",
      "└ @ Main In[23]:25\n",
      "┌ Info: Creating the netCDF file with results\n",
      "└ @ Main In[23]:43\n",
      "┌ Info: Adding error field to netCDF file\n",
      "└ @ Main In[23]:47\n",
      "┌ Info: Sigalion_mathildae\n",
      "└ @ Main In[23]:7\n",
      "┌ Info: Working on species Sigalion_mathildae\n",
      "└ @ Main In[23]:8\n",
      "┌ Info: Column index for Sigalion_mathildae: 12\n",
      "└ @ Main /home/ctroupin/Projects/EMODnet/EMODnet-Biology-Benthos-Interpolated-Maps/scripts/BenthosInterp.jl:25\n",
      "┌ Info: Number of presence: 1863, number of absence: 66697\n",
      "└ @ Main In[23]:13\n",
      "┌ Info: Computing heatmaps\n",
      "└ @ Main In[23]:16\n",
      "┌ Warning: Data array size (66697,) is larger then maximum 10000. Superobservations will be created. To avoid, increase nmax to the desired number of superobs\n",
      "└ @ DIVAnd /home/ctroupin/.julia/packages/DIVAnd/LkI0S/src/DIVAnd_heatmap.jl:48\n",
      "┌ Info: Computing error field with CPME\n",
      "└ @ Main In[23]:25\n",
      "┌ Info: Creating the netCDF file with results\n",
      "└ @ Main In[23]:43\n",
      "┌ Info: Adding error field to netCDF file\n",
      "└ @ Main In[23]:47\n",
      "┌ Info: Spio_armata\n",
      "└ @ Main In[23]:7\n",
      "┌ Info: Working on species Spio_armata\n",
      "└ @ Main In[23]:8\n",
      "┌ Info: Column index for Spio_armata: 19\n",
      "└ @ Main /home/ctroupin/Projects/EMODnet/EMODnet-Biology-Benthos-Interpolated-Maps/scripts/BenthosInterp.jl:25\n",
      "┌ Info: Number of presence: 1839, number of absence: 66721\n",
      "└ @ Main In[23]:13\n",
      "┌ Info: Computing heatmaps\n",
      "└ @ Main In[23]:16\n",
      "┌ Warning: Data array size (66721,) is larger then maximum 10000. Superobservations will be created. To avoid, increase nmax to the desired number of superobs\n",
      "└ @ DIVAnd /home/ctroupin/.julia/packages/DIVAnd/LkI0S/src/DIVAnd_heatmap.jl:48\n",
      "┌ Info: Computing error field with CPME\n",
      "└ @ Main In[23]:25\n",
      "┌ Info: Creating the netCDF file with results\n",
      "└ @ Main In[23]:43\n",
      "┌ Info: Adding error field to netCDF file\n",
      "└ @ Main In[23]:47\n"
     ]
    }
   ],
   "source": [
    "speciesnamelist = get_species_list(datafile)\n",
    "sort!(speciesnamelist)\n",
    "for species in speciesnamelist\n",
    "\n",
    "    speciesslug = get_species_slug(String(species))\n",
    "    \n",
    "    @info(speciesslug)\n",
    "    @info(\"Working on species $(String(species))\");\n",
    "    lon_pre, lat_pre, lon_abs, lat_abs = read_coords_species(datafile, species);\n",
    "    npre = length(lon_pre)\n",
    "    nabs = length(lon_abs)\n",
    "\n",
    "    @info(\"Number of presence: $(npre), number of absence: $(nabs)\")\n",
    "    \n",
    "    \n",
    "    @info(\"Computing heatmaps\")\n",
    "    dens_pre, LHM2, LCV2, LSCV2 = DIVAnd_heatmap(mask2, (pm2,pn2), (xx2, yy2), \n",
    "        (lon_pre, lat_pre), ones(npre), (Linterp, Linterp));\n",
    "    dens_abs, LHM3, LCV3, LSCV3 = DIVAnd_heatmap(mask2, (pm2,pn2), (xx2, yy2), \n",
    "        (lon_abs, lat_abs), ones(nabs), (Linterp, Linterp));\n",
    "\n",
    "\n",
    "    d = npre .* dens_pre ./ (npre .* dens_pre .+ nabs .* dens_abs);\n",
    "\n",
    "    @info(\"Computing error field with CPME\")\n",
    "    lon = [lon_pre ; lon_abs]\n",
    "    lat = [lat_pre ; lat_abs]\n",
    "\n",
    "    cpme = DIVAnd_cpme(mask2, (pm2, pn2), (xx2, yy2), (lon, lat), \n",
    "        ones(length(lon)), (5. .* Linterp, 5. .* Linterp), 5.);\n",
    "\n",
    "    \n",
    "    if doplot\n",
    "        plot_heatmap(longrid2, latgrid2, d, lon_pre, lat_pre, lon_abs, lat_abs,\n",
    "            \"$(species): probability\", figname=joinpath(figdir2, \"$(speciesslug)_density.jpg\"), \n",
    "            usecartopy=usecartopy)            \n",
    "        plot_error(longrid2, latgrid2, cpme, \"$(species): error\", \n",
    "            figname=joinpath(figdir2, \"$(speciesslug)_error.png\"),\n",
    "            usecartopy=usecartopy)\n",
    "    end   \n",
    "\n",
    "    if writenc\n",
    "        @info(\"Creating the netCDF file with results\")\n",
    "        create_nc_results(joinpath(outputdir2, \"$(speciesslug)_density.nc\"), \n",
    "            longrid2, latgrid2, d, String(species), domain=domain);\n",
    "\n",
    "        @info(\"Adding error field to netCDF file\")\n",
    "        write_nc_error(joinpath(outputdir2, \"$(speciesslug)_density.nc\"), cpme);\n",
    "    end\n",
    "\n",
    "\n",
    "end"
   ]
  },
  {
   "cell_type": "code",
   "execution_count": null,
   "metadata": {},
   "outputs": [],
   "source": []
  }
 ],
 "metadata": {
  "@webio": {
   "lastCommId": null,
   "lastKernelId": null
  },
  "kernelspec": {
   "display_name": "Julia 1.5.3",
   "language": "julia",
   "name": "julia-1.5"
  },
  "language_info": {
   "file_extension": ".jl",
   "mimetype": "application/julia",
   "name": "julia",
   "version": "1.5.3"
  }
 },
 "nbformat": 4,
 "nbformat_minor": 2
}
