{
 "cells": [
  {
   "cell_type": "markdown",
   "metadata": {},
   "source": [
    "This notebook is designed to create the _benthos_ interpolated maps using `DIVAnd`.      \n",
    "The data file was prepared by P. Herman (Deltares)."
   ]
  },
  {
   "cell_type": "code",
   "execution_count": 15,
   "metadata": {},
   "outputs": [
    {
     "data": {
      "text/plain": [
       "true"
      ]
     },
     "execution_count": 15,
     "metadata": {},
     "output_type": "execute_result"
    }
   ],
   "source": [
    "using DIVAnd\n",
    "using PyPlot\n",
    "using Proj4\n",
    "using DelimitedFiles\n",
    "using PyCall\n",
    "using Dates\n",
    "using NCDatasets\n",
    "include(\"../scripts/BenthosInterp.jl\")\n",
    "doplot = false\n",
    "usecartopy = true\n",
    "writenc = true"
   ]
  },
  {
   "cell_type": "markdown",
   "metadata": {},
   "source": [
    "## Files and directories"
   ]
  },
  {
   "cell_type": "code",
   "execution_count": 2,
   "metadata": {},
   "outputs": [
    {
     "name": "stderr",
     "output_type": "stream",
     "text": [
      "┌ Info: File already downloaded\n",
      "└ @ Main In[2]:7\n"
     ]
    }
   ],
   "source": [
    "figdir = \"../product/figures/\"\n",
    "outputdir = \"../product/netCDF/\"\n",
    "datadir = \"../data/\"\n",
    "datafile = joinpath(datadir, \"specs4Diva.csv\")\n",
    "isdir(figdir) ? \"Figure directory already exists\" : mkpath(figdir)\n",
    "isdir(outputdir) ? \"Output directory already exists\" : mkpath(outputdir)\n",
    "isfile(datafile) ? @info(\"File already downloaded\") : download(\"https://dox.ulg.ac.be/index.php/s/vNQcvqjW8RzdNBt/download\", datafile)"
   ]
  },
  {
   "cell_type": "code",
   "execution_count": 3,
   "metadata": {},
   "outputs": [
    {
     "data": {
      "text/plain": [
       "0.1"
      ]
     },
     "execution_count": 3,
     "metadata": {},
     "output_type": "execute_result"
    }
   ],
   "source": [
    "domain = [-16., 9., 45., 66.]; # [West East South North]\n",
    "Δlon = 0.1\n",
    "Δlat = 0.1"
   ]
  },
  {
   "cell_type": "markdown",
   "metadata": {},
   "source": [
    "## Prepare mask\n",
    "### Interpolation grid"
   ]
  },
  {
   "cell_type": "code",
   "execution_count": 4,
   "metadata": {},
   "outputs": [
    {
     "data": {
      "text/plain": [
       "45.0:0.1:66.0"
      ]
     },
     "execution_count": 4,
     "metadata": {},
     "output_type": "execute_result"
    }
   ],
   "source": [
    "longrid = domain[1]:Δlon:domain[2]\n",
    "latgrid = domain[3]:Δlat:domain[4]"
   ]
  },
  {
   "cell_type": "markdown",
   "metadata": {},
   "source": [
    "### Download bathymetry file"
   ]
  },
  {
   "cell_type": "code",
   "execution_count": 5,
   "metadata": {},
   "outputs": [
    {
     "name": "stderr",
     "output_type": "stream",
     "text": [
      "┌ Info: Bathymetry file already downloaded\n",
      "└ @ Main In[5]:5\n"
     ]
    }
   ],
   "source": [
    "bathname = joinpath(datadir, \"gebco_30sec_4.nc\")\n",
    "if !isfile(bathname)\n",
    "    download(\"https://dox.ulg.ac.be/index.php/s/RSwm4HPHImdZoQP/download\", bathname)\n",
    "else\n",
    "    @info(\"Bathymetry file already downloaded\")\n",
    "end"
   ]
  },
  {
   "cell_type": "markdown",
   "metadata": {},
   "source": [
    "### Read bathymetry"
   ]
  },
  {
   "cell_type": "code",
   "execution_count": 6,
   "metadata": {},
   "outputs": [
    {
     "name": "stdout",
     "output_type": "stream",
     "text": [
      "size(b) = (251, 211)\n"
     ]
    }
   ],
   "source": [
    "bx, by, b = load_bath(bathname, true, longrid, latgrid)\n",
    "@show size(b)\n",
    "\n",
    "if doplot\n",
    "    fig = PyPlot.figure()\n",
    "    ax = PyPlot.subplot(111)\n",
    "    pcolor(bx,by,b', vmin=0., cmap=PyPlot.cm.gist_earth); \n",
    "    colorbar(orientation=\"vertical\")\n",
    "    title(\"Depth (m)\")\n",
    "    savefig(joinpath(figdir, \"benthos_bathy.jpg\"), dpi=300, bbox_inches=\"tight\")\n",
    "    show()\n",
    "end"
   ]
  },
  {
   "cell_type": "markdown",
   "metadata": {},
   "source": [
    "### Metrics"
   ]
  },
  {
   "cell_type": "code",
   "execution_count": 7,
   "metadata": {},
   "outputs": [],
   "source": [
    "_, (pm, pn),(xi, yi) = DIVAnd.DIVAnd_rectdom(longrid, latgrid);\n",
    "xi, yi, mask = DIVAnd.load_mask(bathname, true, longrid, latgrid, 0.0);\n",
    "xx, yy = ndgrid(xi, yi);"
   ]
  },
  {
   "cell_type": "markdown",
   "metadata": {},
   "source": [
    "## Interpolation\n",
    "### Data reading"
   ]
  },
  {
   "cell_type": "markdown",
   "metadata": {},
   "source": [
    "Loop on all the species: \n",
    "1. read the data\n",
    "2. compute the heatmaps and \n",
    "3. derive the probability field as:\n",
    "```\n",
    "d = npre * dens2 / (npre * dens_pre + nabs * dens_abs)\n",
    "```\n",
    "where \n",
    "* dens_pre is the heatmap obtained with the presence data only; \n",
    "* dens_abs is the heatmap obtained with the absence data only. \n",
    "\n",
    "The reason for this equation is that the heatmap are computed so that their integral over the domain is 1, whatever the number of observations. "
   ]
  },
  {
   "cell_type": "code",
   "execution_count": 8,
   "metadata": {},
   "outputs": [
    {
     "data": {
      "text/plain": [
       "0.1"
      ]
     },
     "execution_count": 8,
     "metadata": {},
     "output_type": "execute_result"
    }
   ],
   "source": [
    "# Set correlation length\n",
    "Lvalues = [0.01, 0.05, 0.1, 0.5, 1.]\n",
    "L = 0.1"
   ]
  },
  {
   "cell_type": "code",
   "execution_count": 9,
   "metadata": {},
   "outputs": [
    {
     "data": {
      "text/plain": [
       "write_nc_error"
      ]
     },
     "execution_count": 9,
     "metadata": {},
     "output_type": "execute_result"
    }
   ],
   "source": [
    "include(\"../scripts/BenthosInterp.jl\")"
   ]
  },
  {
   "cell_type": "code",
   "execution_count": 16,
   "metadata": {},
   "outputs": [
    {
     "name": "stderr",
     "output_type": "stream",
     "text": [
      "┌ Info: Abra_alba\n",
      "└ @ Main In[16]:6\n",
      "┌ Info: Working on species Abra_alba\n",
      "└ @ Main In[16]:7\n",
      "┌ Info: Column index for Abra_alba: 5\n",
      "└ @ Main /home/ctroupin/Projects/EMODnet/EMODnet-Biology-Benthos-Interpolated-Maps/scripts/BenthosInterp.jl:21\n",
      "┌ Info: Number of presence: 14068, number of absence: 65977\n",
      "└ @ Main In[16]:12\n",
      "┌ Info: Computing heatmaps\n",
      "└ @ Main In[16]:13\n",
      "┌ Warning: Data array size (14068,) is larger then maximum 10000. Superobservations will be created. To avoid, increase nmax to the desired number of superobs\n",
      "└ @ DIVAnd /home/ctroupin/.julia/packages/DIVAnd/LkI0S/src/DIVAnd_heatmap.jl:48\n",
      "┌ Warning: Data array size (65977,) is larger then maximum 10000. Superobservations will be created. To avoid, increase nmax to the desired number of superobs\n",
      "└ @ DIVAnd /home/ctroupin/.julia/packages/DIVAnd/LkI0S/src/DIVAnd_heatmap.jl:48\n",
      "┌ Info: Computing error field with CPME\n",
      "└ @ Main In[16]:27\n",
      "┌ Info: Creating the netCDF file with results\n",
      "└ @ Main In[16]:43\n",
      "┌ Info: Adding error field to netCDF file\n",
      "└ @ Main In[16]:47\n",
      "┌ Info: Amphiura_filiformis\n",
      "└ @ Main In[16]:6\n",
      "┌ Info: Working on species Amphiura_filiformis\n",
      "└ @ Main In[16]:7\n",
      "┌ Info: Column index for Amphiura_filiformis: 6\n",
      "└ @ Main /home/ctroupin/Projects/EMODnet/EMODnet-Biology-Benthos-Interpolated-Maps/scripts/BenthosInterp.jl:21\n",
      "┌ Info: Number of presence: 5716, number of absence: 74293\n",
      "└ @ Main In[16]:12\n",
      "┌ Info: Computing heatmaps\n",
      "└ @ Main In[16]:13\n",
      "┌ Warning: Data array size (74293,) is larger then maximum 10000. Superobservations will be created. To avoid, increase nmax to the desired number of superobs\n",
      "└ @ DIVAnd /home/ctroupin/.julia/packages/DIVAnd/LkI0S/src/DIVAnd_heatmap.jl:48\n",
      "┌ Info: Computing error field with CPME\n",
      "└ @ Main In[16]:27\n",
      "┌ Info: Creating the netCDF file with results\n",
      "└ @ Main In[16]:43\n",
      "┌ Info: Adding error field to netCDF file\n",
      "└ @ Main In[16]:47\n",
      "┌ Info: Diplocirrus_glaucus\n",
      "└ @ Main In[16]:6\n",
      "┌ Info: Working on species Diplocirrus_glaucus\n",
      "└ @ Main In[16]:7\n",
      "┌ Info: Column index for Diplocirrus_glaucus: 7\n",
      "└ @ Main /home/ctroupin/Projects/EMODnet/EMODnet-Biology-Benthos-Interpolated-Maps/scripts/BenthosInterp.jl:21\n",
      "┌ Info: Number of presence: 4087, number of absence: 64473\n",
      "└ @ Main In[16]:12\n",
      "┌ Info: Computing heatmaps\n",
      "└ @ Main In[16]:13\n",
      "┌ Warning: Data array size (64473,) is larger then maximum 10000. Superobservations will be created. To avoid, increase nmax to the desired number of superobs\n",
      "└ @ DIVAnd /home/ctroupin/.julia/packages/DIVAnd/LkI0S/src/DIVAnd_heatmap.jl:48\n",
      "┌ Info: Computing error field with CPME\n",
      "└ @ Main In[16]:27\n",
      "┌ Info: Creating the netCDF file with results\n",
      "└ @ Main In[16]:43\n",
      "┌ Info: Adding error field to netCDF file\n",
      "└ @ Main In[16]:47\n",
      "┌ Info: Amphiura_chiajei\n",
      "└ @ Main In[16]:6\n",
      "┌ Info: Working on species Amphiura_chiajei\n",
      "└ @ Main In[16]:7\n",
      "┌ Info: Column index for Amphiura_chiajei: 8\n",
      "└ @ Main /home/ctroupin/Projects/EMODnet/EMODnet-Biology-Benthos-Interpolated-Maps/scripts/BenthosInterp.jl:21\n",
      "┌ Info: Number of presence: 1775, number of absence: 66785\n",
      "└ @ Main In[16]:12\n",
      "┌ Info: Computing heatmaps\n",
      "└ @ Main In[16]:13\n",
      "┌ Warning: Data array size (66785,) is larger then maximum 10000. Superobservations will be created. To avoid, increase nmax to the desired number of superobs\n",
      "└ @ DIVAnd /home/ctroupin/.julia/packages/DIVAnd/LkI0S/src/DIVAnd_heatmap.jl:48\n",
      "┌ Info: Computing error field with CPME\n",
      "└ @ Main In[16]:27\n",
      "┌ Info: Creating the netCDF file with results\n",
      "└ @ Main In[16]:43\n",
      "┌ Info: Adding error field to netCDF file\n",
      "└ @ Main In[16]:47\n",
      "┌ Info: Abludomelita_obtusata\n",
      "└ @ Main In[16]:6\n",
      "┌ Info: Working on species Abludomelita_obtusata\n",
      "└ @ Main In[16]:7\n",
      "┌ Info: Column index for Abludomelita_obtusata: 9\n",
      "└ @ Main /home/ctroupin/Projects/EMODnet/EMODnet-Biology-Benthos-Interpolated-Maps/scripts/BenthosInterp.jl:21\n",
      "┌ Info: Number of presence: 2097, number of absence: 66463\n",
      "└ @ Main In[16]:12\n",
      "┌ Info: Computing heatmaps\n",
      "└ @ Main In[16]:13\n",
      "┌ Warning: Data array size (66463,) is larger then maximum 10000. Superobservations will be created. To avoid, increase nmax to the desired number of superobs\n",
      "└ @ DIVAnd /home/ctroupin/.julia/packages/DIVAnd/LkI0S/src/DIVAnd_heatmap.jl:48\n",
      "┌ Info: Computing error field with CPME\n",
      "└ @ Main In[16]:27\n",
      "┌ Info: Creating the netCDF file with results\n",
      "└ @ Main In[16]:43\n",
      "┌ Info: Adding error field to netCDF file\n",
      "└ @ Main In[16]:47\n",
      "┌ Info: Bicellariella_ciliata\n",
      "└ @ Main In[16]:6\n",
      "┌ Info: Working on species Bicellariella_ciliata\n",
      "└ @ Main In[16]:7\n",
      "┌ Info: Column index for Bicellariella_ciliata: 10\n",
      "└ @ Main /home/ctroupin/Projects/EMODnet/EMODnet-Biology-Benthos-Interpolated-Maps/scripts/BenthosInterp.jl:21\n",
      "┌ Info: Number of presence: 2159, number of absence: 66401\n",
      "└ @ Main In[16]:12\n",
      "┌ Info: Computing heatmaps\n",
      "└ @ Main In[16]:13\n",
      "┌ Warning: Data array size (66401,) is larger then maximum 10000. Superobservations will be created. To avoid, increase nmax to the desired number of superobs\n",
      "└ @ DIVAnd /home/ctroupin/.julia/packages/DIVAnd/LkI0S/src/DIVAnd_heatmap.jl:48\n",
      "┌ Info: Computing error field with CPME\n",
      "└ @ Main In[16]:27\n",
      "┌ Info: Creating the netCDF file with results\n",
      "└ @ Main In[16]:43\n",
      "┌ Info: Adding error field to netCDF file\n",
      "└ @ Main In[16]:47\n",
      "┌ Info: Megaluropus_agilis\n",
      "└ @ Main In[16]:6\n",
      "┌ Info: Working on species Megaluropus_agilis\n",
      "└ @ Main In[16]:7\n",
      "┌ Info: Column index for Megaluropus_agilis: 11\n",
      "└ @ Main /home/ctroupin/Projects/EMODnet/EMODnet-Biology-Benthos-Interpolated-Maps/scripts/BenthosInterp.jl:21\n",
      "┌ Info: Number of presence: 1919, number of absence: 66641\n",
      "└ @ Main In[16]:12\n",
      "┌ Info: Computing heatmaps\n",
      "└ @ Main In[16]:13\n",
      "┌ Warning: Data array size (66641,) is larger then maximum 10000. Superobservations will be created. To avoid, increase nmax to the desired number of superobs\n",
      "└ @ DIVAnd /home/ctroupin/.julia/packages/DIVAnd/LkI0S/src/DIVAnd_heatmap.jl:48\n",
      "┌ Info: Computing error field with CPME\n",
      "└ @ Main In[16]:27\n",
      "┌ Info: Creating the netCDF file with results\n",
      "└ @ Main In[16]:43\n",
      "┌ Info: Adding error field to netCDF file\n",
      "└ @ Main In[16]:47\n",
      "┌ Info: Sigalion_mathildae\n",
      "└ @ Main In[16]:6\n",
      "┌ Info: Working on species Sigalion_mathildae\n",
      "└ @ Main In[16]:7\n",
      "┌ Info: Column index for Sigalion_mathildae: 12\n",
      "└ @ Main /home/ctroupin/Projects/EMODnet/EMODnet-Biology-Benthos-Interpolated-Maps/scripts/BenthosInterp.jl:21\n",
      "┌ Info: Number of presence: 1863, number of absence: 66697\n",
      "└ @ Main In[16]:12\n",
      "┌ Info: Computing heatmaps\n",
      "└ @ Main In[16]:13\n",
      "┌ Warning: Data array size (66697,) is larger then maximum 10000. Superobservations will be created. To avoid, increase nmax to the desired number of superobs\n",
      "└ @ DIVAnd /home/ctroupin/.julia/packages/DIVAnd/LkI0S/src/DIVAnd_heatmap.jl:48\n",
      "┌ Info: Computing error field with CPME\n",
      "└ @ Main In[16]:27\n",
      "┌ Info: Creating the netCDF file with results\n",
      "└ @ Main In[16]:43\n",
      "┌ Info: Adding error field to netCDF file\n",
      "└ @ Main In[16]:47\n",
      "┌ Info: Callianassa_subterranea\n",
      "└ @ Main In[16]:6\n",
      "┌ Info: Working on species Callianassa_subterranea\n",
      "└ @ Main In[16]:7\n",
      "┌ Info: Column index for Callianassa_subterranea: 13\n",
      "└ @ Main /home/ctroupin/Projects/EMODnet/EMODnet-Biology-Benthos-Interpolated-Maps/scripts/BenthosInterp.jl:21\n",
      "┌ Info: Number of presence: 2107, number of absence: 67049\n",
      "└ @ Main In[16]:12\n",
      "┌ Info: Computing heatmaps\n",
      "└ @ Main In[16]:13\n",
      "┌ Warning: Data array size (67049,) is larger then maximum 10000. Superobservations will be created. To avoid, increase nmax to the desired number of superobs\n",
      "└ @ DIVAnd /home/ctroupin/.julia/packages/DIVAnd/LkI0S/src/DIVAnd_heatmap.jl:48\n",
      "┌ Info: Computing error field with CPME\n",
      "└ @ Main In[16]:27\n",
      "┌ Info: Creating the netCDF file with results\n",
      "└ @ Main In[16]:43\n",
      "┌ Info: Adding error field to netCDF file\n",
      "└ @ Main In[16]:47\n",
      "┌ Info: Acrocnida_brachiata\n",
      "└ @ Main In[16]:6\n",
      "┌ Info: Working on species Acrocnida_brachiata\n",
      "└ @ Main In[16]:7\n",
      "┌ Info: Column index for Acrocnida_brachiata: 14\n",
      "└ @ Main /home/ctroupin/Projects/EMODnet/EMODnet-Biology-Benthos-Interpolated-Maps/scripts/BenthosInterp.jl:21\n",
      "┌ Info: Number of presence: 1665, number of absence: 66895\n",
      "└ @ Main In[16]:12\n",
      "┌ Info: Computing heatmaps\n",
      "└ @ Main In[16]:13\n",
      "┌ Warning: Data array size (66895,) is larger then maximum 10000. Superobservations will be created. To avoid, increase nmax to the desired number of superobs\n",
      "└ @ DIVAnd /home/ctroupin/.julia/packages/DIVAnd/LkI0S/src/DIVAnd_heatmap.jl:48\n"
     ]
    },
    {
     "name": "stderr",
     "output_type": "stream",
     "text": [
      "┌ Info: Computing error field with CPME\n",
      "└ @ Main In[16]:27\n",
      "┌ Info: Creating the netCDF file with results\n",
      "└ @ Main In[16]:43\n",
      "┌ Info: Adding error field to netCDF file\n",
      "└ @ Main In[16]:47\n",
      "┌ Info: Littorina_littorea\n",
      "└ @ Main In[16]:6\n",
      "┌ Info: Working on species Littorina_littorea\n",
      "└ @ Main In[16]:7\n",
      "┌ Info: Column index for Littorina_littorea: 15\n",
      "└ @ Main /home/ctroupin/Projects/EMODnet/EMODnet-Biology-Benthos-Interpolated-Maps/scripts/BenthosInterp.jl:21\n",
      "┌ Info: Number of presence: 1285, number of absence: 67275\n",
      "└ @ Main In[16]:12\n",
      "┌ Info: Computing heatmaps\n",
      "└ @ Main In[16]:13\n",
      "┌ Warning: Data array size (67275,) is larger then maximum 10000. Superobservations will be created. To avoid, increase nmax to the desired number of superobs\n",
      "└ @ DIVAnd /home/ctroupin/.julia/packages/DIVAnd/LkI0S/src/DIVAnd_heatmap.jl:48\n",
      "┌ Info: Computing error field with CPME\n",
      "└ @ Main In[16]:27\n",
      "┌ Info: Creating the netCDF file with results\n",
      "└ @ Main In[16]:43\n",
      "┌ Info: Adding error field to netCDF file\n",
      "└ @ Main In[16]:47\n",
      "┌ Info: Aequipecten_opercularis\n",
      "└ @ Main In[16]:6\n",
      "┌ Info: Working on species Aequipecten_opercularis\n",
      "└ @ Main In[16]:7\n",
      "┌ Info: Column index for Aequipecten_opercularis: 16\n",
      "└ @ Main /home/ctroupin/Projects/EMODnet/EMODnet-Biology-Benthos-Interpolated-Maps/scripts/BenthosInterp.jl:21\n",
      "┌ Info: Number of presence: 1922, number of absence: 78087\n",
      "└ @ Main In[16]:12\n",
      "┌ Info: Computing heatmaps\n",
      "└ @ Main In[16]:13\n",
      "┌ Warning: Data array size (78087,) is larger then maximum 10000. Superobservations will be created. To avoid, increase nmax to the desired number of superobs\n",
      "└ @ DIVAnd /home/ctroupin/.julia/packages/DIVAnd/LkI0S/src/DIVAnd_heatmap.jl:48\n",
      "┌ Info: Computing error field with CPME\n",
      "└ @ Main In[16]:27\n",
      "┌ Info: Creating the netCDF file with results\n",
      "└ @ Main In[16]:43\n",
      "┌ Info: Adding error field to netCDF file\n",
      "└ @ Main In[16]:47\n",
      "┌ Info: Bathyporeia_tenuipes\n",
      "└ @ Main In[16]:6\n",
      "┌ Info: Working on species Bathyporeia_tenuipes\n",
      "└ @ Main In[16]:7\n",
      "┌ Info: Column index for Bathyporeia_tenuipes: 17\n",
      "└ @ Main /home/ctroupin/Projects/EMODnet/EMODnet-Biology-Benthos-Interpolated-Maps/scripts/BenthosInterp.jl:21\n",
      "┌ Info: Number of presence: 1421, number of absence: 67139\n",
      "└ @ Main In[16]:12\n",
      "┌ Info: Computing heatmaps\n",
      "└ @ Main In[16]:13\n",
      "┌ Warning: Data array size (67139,) is larger then maximum 10000. Superobservations will be created. To avoid, increase nmax to the desired number of superobs\n",
      "└ @ DIVAnd /home/ctroupin/.julia/packages/DIVAnd/LkI0S/src/DIVAnd_heatmap.jl:48\n",
      "┌ Info: Computing error field with CPME\n",
      "└ @ Main In[16]:27\n",
      "┌ Info: Creating the netCDF file with results\n",
      "└ @ Main In[16]:43\n",
      "┌ Info: Adding error field to netCDF file\n",
      "└ @ Main In[16]:47\n",
      "┌ Info: Lumbrineriopsis_paradoxa\n",
      "└ @ Main In[16]:6\n",
      "┌ Info: Working on species Lumbrineriopsis_paradoxa\n",
      "└ @ Main In[16]:7\n",
      "┌ Info: Column index for Lumbrineriopsis_paradoxa: 18\n",
      "└ @ Main /home/ctroupin/Projects/EMODnet/EMODnet-Biology-Benthos-Interpolated-Maps/scripts/BenthosInterp.jl:21\n",
      "┌ Info: Number of presence: 2128, number of absence: 66432\n",
      "└ @ Main In[16]:12\n",
      "┌ Info: Computing heatmaps\n",
      "└ @ Main In[16]:13\n",
      "┌ Warning: Data array size (66432,) is larger then maximum 10000. Superobservations will be created. To avoid, increase nmax to the desired number of superobs\n",
      "└ @ DIVAnd /home/ctroupin/.julia/packages/DIVAnd/LkI0S/src/DIVAnd_heatmap.jl:48\n",
      "┌ Info: Computing error field with CPME\n",
      "└ @ Main In[16]:27\n",
      "┌ Info: Creating the netCDF file with results\n",
      "└ @ Main In[16]:43\n",
      "┌ Info: Adding error field to netCDF file\n",
      "└ @ Main In[16]:47\n",
      "┌ Info: Spio_armata\n",
      "└ @ Main In[16]:6\n",
      "┌ Info: Working on species Spio_armata\n",
      "└ @ Main In[16]:7\n",
      "┌ Info: Column index for Spio_armata: 19\n",
      "└ @ Main /home/ctroupin/Projects/EMODnet/EMODnet-Biology-Benthos-Interpolated-Maps/scripts/BenthosInterp.jl:21\n",
      "┌ Info: Number of presence: 1839, number of absence: 66721\n",
      "└ @ Main In[16]:12\n",
      "┌ Info: Computing heatmaps\n",
      "└ @ Main In[16]:13\n",
      "┌ Warning: Data array size (66721,) is larger then maximum 10000. Superobservations will be created. To avoid, increase nmax to the desired number of superobs\n",
      "└ @ DIVAnd /home/ctroupin/.julia/packages/DIVAnd/LkI0S/src/DIVAnd_heatmap.jl:48\n",
      "┌ Info: Computing error field with CPME\n",
      "└ @ Main In[16]:27\n",
      "┌ Info: Creating the netCDF file with results\n",
      "└ @ Main In[16]:43\n",
      "┌ Info: Adding error field to netCDF file\n",
      "└ @ Main In[16]:47\n",
      "┌ Info: Schizomavella_Schizomavella_auriculata\n",
      "└ @ Main In[16]:6\n",
      "┌ Info: Working on species Schizomavella_(Schizomavella)_auriculata\n",
      "└ @ Main In[16]:7\n",
      "┌ Info: Column index for Schizomavella_(Schizomavella)_auriculata: 20\n",
      "└ @ Main /home/ctroupin/Projects/EMODnet/EMODnet-Biology-Benthos-Interpolated-Maps/scripts/BenthosInterp.jl:21\n",
      "┌ Info: Number of presence: 1405, number of absence: 67155\n",
      "└ @ Main In[16]:12\n",
      "┌ Info: Computing heatmaps\n",
      "└ @ Main In[16]:13\n",
      "┌ Warning: Data array size (67155,) is larger then maximum 10000. Superobservations will be created. To avoid, increase nmax to the desired number of superobs\n",
      "└ @ DIVAnd /home/ctroupin/.julia/packages/DIVAnd/LkI0S/src/DIVAnd_heatmap.jl:48\n",
      "┌ Info: Computing error field with CPME\n",
      "└ @ Main In[16]:27\n",
      "┌ Info: Creating the netCDF file with results\n",
      "└ @ Main In[16]:43\n",
      "┌ Info: Adding error field to netCDF file\n",
      "└ @ Main In[16]:47\n",
      "┌ Info: Amphiura_Ophiopeltis_securigera\n",
      "└ @ Main In[16]:6\n",
      "┌ Info: Working on species Amphiura_(Ophiopeltis)_securigera\n",
      "└ @ Main In[16]:7\n",
      "┌ Info: Column index for Amphiura_(Ophiopeltis)_securigera: 21\n",
      "└ @ Main /home/ctroupin/Projects/EMODnet/EMODnet-Biology-Benthos-Interpolated-Maps/scripts/BenthosInterp.jl:21\n",
      "┌ Info: Number of presence: 1310, number of absence: 67250\n",
      "└ @ Main In[16]:12\n",
      "┌ Info: Computing heatmaps\n",
      "└ @ Main In[16]:13\n",
      "┌ Warning: Data array size (67250,) is larger then maximum 10000. Superobservations will be created. To avoid, increase nmax to the desired number of superobs\n",
      "└ @ DIVAnd /home/ctroupin/.julia/packages/DIVAnd/LkI0S/src/DIVAnd_heatmap.jl:48\n",
      "┌ Info: Computing error field with CPME\n",
      "└ @ Main In[16]:27\n",
      "┌ Info: Creating the netCDF file with results\n",
      "└ @ Main In[16]:43\n",
      "┌ Info: Adding error field to netCDF file\n",
      "└ @ Main In[16]:47\n",
      "┌ Info: Diplocirrus_stopbowitzi\n",
      "└ @ Main In[16]:6\n",
      "┌ Info: Working on species Diplocirrus_stopbowitzi\n",
      "└ @ Main In[16]:7\n",
      "┌ Info: Column index for Diplocirrus_stopbowitzi: 22\n",
      "└ @ Main /home/ctroupin/Projects/EMODnet/EMODnet-Biology-Benthos-Interpolated-Maps/scripts/BenthosInterp.jl:21\n",
      "┌ Info: Number of presence: 332, number of absence: 68228\n",
      "└ @ Main In[16]:12\n",
      "┌ Info: Computing heatmaps\n",
      "└ @ Main In[16]:13\n",
      "┌ Warning: Data array size (68228,) is larger then maximum 10000. Superobservations will be created. To avoid, increase nmax to the desired number of superobs\n",
      "└ @ DIVAnd /home/ctroupin/.julia/packages/DIVAnd/LkI0S/src/DIVAnd_heatmap.jl:48\n",
      "┌ Info: Computing error field with CPME\n",
      "└ @ Main In[16]:27\n",
      "┌ Info: Creating the netCDF file with results\n",
      "└ @ Main In[16]:43\n",
      "┌ Info: Adding error field to netCDF file\n",
      "└ @ Main In[16]:47\n"
     ]
    }
   ],
   "source": [
    "speciesnamelist = get_species_list(datafile)\n",
    "for species in speciesnamelist\n",
    "\n",
    "    speciesslug = get_species_slug(String(species))\n",
    "    \n",
    "    @info(speciesslug)\n",
    "    @info(\"Working on species $(species)\");\n",
    "    lon_pre, lat_pre, lon_abs, lat_abs = read_coords_species(datafile, species);\n",
    "    npre = length(lon_pre)\n",
    "    nabs = length(lon_abs)\n",
    "\n",
    "    @info(\"Number of presence: $(npre), number of absence: $(nabs)\")\n",
    "    @info(\"Computing heatmaps\")\n",
    "\n",
    "    ii = 0\n",
    "    \n",
    "\n",
    "    ii += 1\n",
    "    dens_pre, LHM2, LCV2, LSCV2 = DIVAnd_heatmap(mask, (pm,pn), (xx, yy), \n",
    "        (lon_pre, lat_pre), ones(npre), L);\n",
    "    dens_abs, LHM3, LCV3, LSCV3 = DIVAnd_heatmap(mask, (pm,pn), (xx, yy), \n",
    "        (lon_abs, lat_abs), ones(nabs), L);\n",
    "\n",
    "\n",
    "    d = npre .* dens_pre ./ (npre .* dens_pre .+ nabs .* dens_abs);\n",
    "\n",
    "    @info(\"Computing error field with CPME\")\n",
    "    lon = [lon_pre ; lon_abs]\n",
    "    lat = [lat_pre ; lat_abs]\n",
    "\n",
    "    cpme = DIVAnd_cpme(mask, (pm, pn), (xx, yy), (lon, lat), \n",
    "        ones(length(lon)), 0.5, 5.);\n",
    "\n",
    "    if doplot\n",
    "        plot_heatmap(longrid, latgrid, d, lon_pre, lat_pre, lon_abs, lat_abs,\n",
    "            \"$(species): probability\", figname=joinpath(figdir, \"$(speciesslug)_density.png\"), \n",
    "            usecartopy=usecartopy)            \n",
    "        #plot_error(longrid, latgrid, cpme, \"$(species)\", \n",
    "        #    joinpath(figdir, \"$(speciesslug)_error.png\"))\n",
    "    end   \n",
    "\n",
    "    if writenc\n",
    "        @info(\"Creating the netCDF file with results\")\n",
    "        create_nc_results(joinpath(outputdir, \"$(speciesslug)_density.nc\"), \n",
    "            longrid, latgrid, d, String(species));\n",
    "\n",
    "        @info(\"Adding error field to netCDF file\")\n",
    "        write_nc_error(joinpath(outputdir, \"$(speciesslug)_density.nc\"), cpme);\n",
    "    end\n",
    "\n",
    "\n",
    "end"
   ]
  },
  {
   "cell_type": "markdown",
   "metadata": {},
   "source": [
    "Create a new field that takes into account the error field:\n",
    "* if error is zero, we take the gridded field as it is;\n",
    "* if error is close to 1, it means we don't have observations so the new field is zero (assuming that we don't have observations means there is nothing to observe);\n",
    "* if error is between 0 and 1, we calculate the field as "
   ]
  },
  {
   "cell_type": "code",
   "execution_count": 11,
   "metadata": {},
   "outputs": [
    {
     "ename": "LoadError",
     "evalue": "UndefVarError: cpme not defined",
     "output_type": "error",
     "traceback": [
      "UndefVarError: cpme not defined",
      "",
      "Stacktrace:",
      " [1] top-level scope at In[11]:1",
      " [2] include_string(::Function, ::Module, ::String, ::String) at ./loading.jl:1091"
     ]
    }
   ],
   "source": [
    "newfield = (1. .- cpme) .* d;"
   ]
  },
  {
   "cell_type": "markdown",
   "metadata": {},
   "source": [
    "## Variable correlation length"
   ]
  },
  {
   "cell_type": "code",
   "execution_count": null,
   "metadata": {},
   "outputs": [],
   "source": []
  }
 ],
 "metadata": {
  "@webio": {
   "lastCommId": null,
   "lastKernelId": null
  },
  "kernelspec": {
   "display_name": "Julia 1.5.3",
   "language": "julia",
   "name": "julia-1.5"
  },
  "language_info": {
   "file_extension": ".jl",
   "mimetype": "application/julia",
   "name": "julia",
   "version": "1.5.3"
  }
 },
 "nbformat": 4,
 "nbformat_minor": 2
}
